{
 "cells": [
  {
   "cell_type": "markdown",
   "metadata": {},
   "source": [
    "# 개요\n",
    "+ 기본 통계\n",
    "  - 평균, 중간값, 분위값, 분산, 표준편차 등\n",
    "+ 두 데이터셋 사이의 상관관계 분석\n",
    "  - 공분산(Covariance)\n",
    "  - 상관계수(Correlation Coefficient)"
   ]
  },
  {
   "cell_type": "markdown",
   "metadata": {},
   "source": [
    "# 데이터 살펴보기"
   ]
  },
  {
   "cell_type": "code",
   "execution_count": 1,
   "metadata": {},
   "outputs": [],
   "source": [
    "num_friends = [100.0,49,41,40,25,21,21,19,19,18,18,16,15,15,15,15,14,14,13,13,13,13,12,12,11,10,10,10,10,10,10,10,10,10,10,10,10,10,10,10,9,9,9,9,9,9,9,9,9,9,9,9,9,9,9,9,9,9,8,8,8,8,8,8,8,8,8,8,8,8,8,7,7,7,7,7,7,7,7,7,7,7,7,7,7,7,6,6,6,6,6,6,6,6,6,6,6,6,6,6,6,6,6,6,6,6,6,6,5,5,5,5,5,5,5,5,5,5,5,5,5,5,5,5,5,4,4,4,4,4,4,4,4,4,4,4,4,4,4,4,4,4,4,4,4,3,3,3,3,3,3,3,3,3,3,3,3,3,3,3,3,3,3,3,3,2,2,2,2,2,2,2,2,2,2,2,2,2,2,2,2,2,1,1,1,1,1,1,1,1,1,1,1,1,1,1,1,1,1,1,1,1,1,1]"
   ]
  },
  {
   "cell_type": "markdown",
   "metadata": {},
   "source": [
    "### 히스토그램\n",
    "+ 데이터 분포 시각화하여 보기"
   ]
  },
  {
   "cell_type": "code",
   "execution_count": 2,
   "metadata": {},
   "outputs": [
    {
     "data": {
      "text/plain": [
       "<Figure size 640x480 with 1 Axes>"
      ]
     },
     "metadata": {},
     "output_type": "display_data"
    }
   ],
   "source": [
    "from collections import Counter\n",
    "import matplotlib.pyplot as plt\n",
    "\n",
    "friend_counts = Counter(num_friends)\n",
    "xs = range(101)                         # largest value is 100\n",
    "ys = [friend_counts[x] for x in xs]     # height is just # of friends\n",
    "plt.bar(xs, ys)\n",
    "plt.axis([0, 101, 0, 25])\n",
    "plt.title(\"Histogram of Friend Counts\")\n",
    "plt.xlabel(\"# of friends\")\n",
    "plt.ylabel(\"# of people\")\n",
    "plt.show()"
   ]
  },
  {
   "cell_type": "markdown",
   "metadata": {},
   "source": [
    "### 간단한 데이터 탐색\n",
    "+ 데이터 셋의 크기, 최대값, 최솟값 등 기본적인 특징 파악하기\n",
    "+ 일단 정렬(Sorting)을 해 놓으면 기본 특성을 쉽게 파악할 수 있다\n",
    "  - 특별한 도구 없이 간단한 파이썬 코드로 해결 가능"
   ]
  },
  {
   "cell_type": "code",
   "execution_count": 3,
   "metadata": {},
   "outputs": [],
   "source": [
    "num_points = len(num_friends)               # 204\n",
    "\n",
    "assert num_points == 204\n",
    "\n",
    "\n",
    "largest_value = max(num_friends)            # 100\n",
    "smallest_value = min(num_friends)           # 1\n",
    "\n",
    "assert largest_value == 100\n",
    "assert smallest_value == 1"
   ]
  },
  {
   "cell_type": "code",
   "execution_count": 4,
   "metadata": {},
   "outputs": [],
   "source": [
    "sorted_values = sorted(num_friends)\n",
    "smallest_value = sorted_values[0]           # 1\n",
    "second_smallest_value = sorted_values[1]    # 1\n",
    "second_largest_value = sorted_values[-2]    # 49\n",
    "\n",
    "\n",
    "assert smallest_value == 1\n",
    "assert second_smallest_value == 1\n",
    "assert second_largest_value == 49"
   ]
  },
  {
   "cell_type": "markdown",
   "metadata": {},
   "source": [
    "#  Central Tendency"
   ]
  },
  {
   "cell_type": "markdown",
   "metadata": {},
   "source": [
    "## 평균(Mean)과 중간값(Median)\n",
    "* 평균이나 중간값 : 데이터셋의 특징을 설명하는 하나의 지표\n",
    "* 평균에 속지 말자 (매우 큰 값 또는 매우 작은 값이 큰 영향을 미친다)\n",
    "  + 중간값을 함께 봐야한다!\n",
    "  + 예) 가구별 평균소득 vs. 가구별 소득 중간값\n",
    "    - 나는 중간은 되는 것 같은데, 왜 평균소득보다 한 참 아래일까...?\n",
    "    - 극강의 부자들 때문에 평균소득이 중간값보다 높다"
   ]
  },
  {
   "cell_type": "code",
   "execution_count": 5,
   "metadata": {},
   "outputs": [],
   "source": [
    "from typing import List\n",
    "\n",
    "def mean(xs: List[float]) -> float:\n",
    "    return sum(xs) / len(xs)\n",
    "\n",
    "mean(num_friends)   # 7.333333\n",
    "\n",
    "\n",
    "assert 7.3333 < mean(num_friends) < 7.3334\n",
    "\n",
    "# The underscores indicate that these are \"private\" functions, as they're\n",
    "# intended to be called by our median function but not by other people\n",
    "# using our statistics library.\n",
    "def _median_odd(xs: List[float]) -> float:\n",
    "    \"\"\"If len(xs) is odd, the median is the middle element\"\"\"\n",
    "    return sorted(xs)[len(xs) // 2]\n",
    "\n",
    "def _median_even(xs: List[float]) -> float:\n",
    "    \"\"\"If len(xs) is even, it's the average of the middle two elements\"\"\"\n",
    "    sorted_xs = sorted(xs)\n",
    "    hi_midpoint = len(xs) // 2  # e.g. length 4 => hi_midpoint 2\n",
    "    return (sorted_xs[hi_midpoint - 1] + sorted_xs[hi_midpoint]) / 2\n",
    "\n",
    "def median(v: List[float]) -> float:\n",
    "    \"\"\"Finds the 'middle-most' value of v\"\"\"\n",
    "    return _median_even(v) if len(v) % 2 == 0 else _median_odd(v)\n",
    "\n",
    "assert median([1, 10, 2, 9, 5]) == 5\n",
    "assert median([1, 9, 2, 10]) == (2 + 9) / 2\n",
    "\n",
    "\n",
    "assert median(num_friends) == 6"
   ]
  },
  {
   "cell_type": "markdown",
   "metadata": {},
   "source": [
    "## 분위값(Quantile)\n",
    "* 순서대로 정렬된 데이터셋에서 특정 비율에 속하는 경계값\n",
    "* 예) 1/2 분위값 : 중간값\n",
    "  + 하위 1/4 분위값 : 하위 25%에 속하는 가장 큰 값(경계값)"
   ]
  },
  {
   "cell_type": "code",
   "execution_count": 6,
   "metadata": {},
   "outputs": [],
   "source": [
    "def quantile(xs: List[float], p: float) -> float:\n",
    "    \"\"\"Returns the pth-percentile value in x\"\"\"\n",
    "    p_index = int(p * len(xs))\n",
    "    return sorted(xs)[p_index]\n",
    "\n",
    "assert quantile(num_friends, 0.10) == 1\n",
    "assert quantile(num_friends, 0.25) == 3\n",
    "assert quantile(num_friends, 0.75) == 9\n",
    "assert quantile(num_friends, 0.90) == 13"
   ]
  },
  {
   "cell_type": "markdown",
   "metadata": {},
   "source": [
    "## 최빈값(Most Common Values)\n",
    "* 데이터셋에서 가장 많이 등장하는 값"
   ]
  },
  {
   "cell_type": "code",
   "execution_count": 7,
   "metadata": {},
   "outputs": [],
   "source": [
    "def mode(x: List[float]) -> List[float]:\n",
    "    \"\"\"Returns a list, since there might be more than one mode\"\"\"\n",
    "    counts = Counter(x)\n",
    "    max_count = max(counts.values())\n",
    "    return [x_i for x_i, count in counts.items()\n",
    "            if count == max_count]\n",
    "\n",
    "assert set(mode(num_friends)) == {1, 6}"
   ]
  },
  {
   "cell_type": "markdown",
   "metadata": {},
   "source": [
    "## 데이터 범위\n",
    "* 최대값 - 최소값"
   ]
  },
  {
   "cell_type": "code",
   "execution_count": 8,
   "metadata": {},
   "outputs": [],
   "source": [
    "# \"range\" already means something in Python, so we'll use a different name\n",
    "def data_range(xs: List[float]) -> float:\n",
    "    return max(xs) - min(xs)\n",
    "\n",
    "assert data_range(num_friends) == 99"
   ]
  },
  {
   "cell_type": "markdown",
   "metadata": {},
   "source": [
    "## Boxplot 시각화\n",
    "+ 히스토그램보다 더 많은 정보를 제공\n",
    "+ 최소~최대값, 이상치, 평균, 중간값, 분위값을 한 번에 파악"
   ]
  },
  {
   "cell_type": "code",
   "execution_count": 9,
   "metadata": {},
   "outputs": [
    {
     "data": {
      "image/png": "[encoded data removed]",
      "text/plain": [
       "<Figure size 432x288 with 1 Axes>"
      ]
     },
     "metadata": {
      "needs_background": "light"
     },
     "output_type": "display_data"
    }
   ],
   "source": [
    "plt.boxplot([num_friends],  0, 'bD', showmeans=True, vert=False)\n",
    "plt.show()"
   ]
  },
  {
   "cell_type": "markdown",
   "metadata": {},
   "source": [
    "# Dispersion"
   ]
  },
  {
   "cell_type": "markdown",
   "metadata": {},
   "source": [
    "## 분산과 표준편차\n",
    "+ 분산(Variance) : 데이터가 퍼져있는 정도. 분산이 클수록 데이터가 들죽날죽하다는 의미\n",
    "  - $var(x)=E((X-\\mu)^2)$\n",
    "  - 편차 제곱의 평균\n",
    "  - 통계적 보정: 평균을 구할 때 샘플 데이터 갯수(n)가 아닌 (n-1)로 나눔\n",
    "+ 표준편자(Standard Deviation) : 분산의 제곱근 값\n",
    "  - 분산은 제곱값이기 때문에 값이 크다 &rarr; 분산값을 작게 표현한 것. (실제 편차에 좀 더 가까움)\n",
    "  - $\\sigma_x = \\sqrt{var(x)}$"
   ]
  },
  {
   "cell_type": "code",
   "execution_count": 10,
   "metadata": {},
   "outputs": [],
   "source": [
    "# 'scratch' package가 설치된 디렉토리\n",
    "import os, sys\n",
    "os.chdir('..')\n",
    "\n",
    "from scratch.linear_algebra import sum_of_squares\n",
    "\n",
    "def de_mean(xs: List[float]) -> List[float]:\n",
    "    \"\"\"Translate xs by subtracting its mean (so the result has mean 0)\"\"\"\n",
    "    x_bar = mean(xs)\n",
    "    return [x - x_bar for x in xs]\n",
    "\n",
    "def variance(xs: List[float]) -> float:\n",
    "    \"\"\"Almost the average squared deviation from the mean\"\"\"\n",
    "    assert len(xs) >= 2, \"variance requires at least two elements\"\n",
    "\n",
    "    n = len(xs)\n",
    "    deviations = de_mean(xs)\n",
    "    return sum_of_squares(deviations) / (n - 1)\n",
    "\n",
    "assert 81.54 < variance(num_friends) < 81.55"
   ]
  },
  {
   "cell_type": "code",
   "execution_count": 11,
   "metadata": {},
   "outputs": [],
   "source": [
    "import math\n",
    "\n",
    "def standard_deviation(xs: List[float]) -> float:\n",
    "    \"\"\"The standard deviation is the square root of the variance\"\"\"\n",
    "    return math.sqrt(variance(xs))\n",
    "\n",
    "assert 9.02 < standard_deviation(num_friends) < 9.04"
   ]
  },
  {
   "cell_type": "markdown",
   "metadata": {},
   "source": [
    "## Interquartile Range (IQR)\n",
    "+ 사분범위 : 데이터셋의 중간 50%(25%~75%)에 속하는 값들의 퍼진 정도"
   ]
  },
  {
   "cell_type": "code",
   "execution_count": 12,
   "metadata": {},
   "outputs": [],
   "source": [
    "def interquartile_range(xs: List[float]) -> float:\n",
    "    \"\"\"Returns the difference between the 75%-ile and the 25%-ile\"\"\"\n",
    "    return quantile(xs, 0.75) - quantile(xs, 0.25)\n",
    "\n",
    "assert interquartile_range(num_friends) == 6"
   ]
  },
  {
   "cell_type": "markdown",
   "metadata": {},
   "source": [
    "# 상관관계 (Correlation)\n",
    "* 두 데이터셋 사이의 관계\n",
    "* 상관성이 있다 : 서로 영향을 미친다, 증가/감소하는 경향이 서로 관계가 있다.\n",
    "  + 예) 키가 크면 &rarr; 체중도 더 많이 나가는 경향이 있다\n",
    "  + 예) 키 vs. 신발 사이즈, 몸무게 vs. 허리 사이즈"
   ]
  },
  {
   "cell_type": "code",
   "execution_count": 13,
   "metadata": {},
   "outputs": [],
   "source": [
    "# 하루 중 온라인 커뮤니티에서 노는 시간 (예, 페북이나 인스타)\n",
    "daily_minutes = [1,68.77,51.25,52.08,38.36,44.54,57.13,51.4,41.42,31.22,34.76,54.01,38.79,47.59,49.1,27.66,41.03,36.73,48.65,28.12,46.62,35.57,32.98,35,26.07,23.77,39.73,40.57,31.65,31.21,36.32,20.45,21.93,26.02,27.34,23.49,46.94,30.5,33.8,24.23,21.4,27.94,32.24,40.57,25.07,19.42,22.39,18.42,46.96,23.72,26.41,26.97,36.76,40.32,35.02,29.47,30.2,31,38.11,38.18,36.31,21.03,30.86,36.07,28.66,29.08,37.28,15.28,24.17,22.31,30.17,25.53,19.85,35.37,44.6,17.23,13.47,26.33,35.02,32.09,24.81,19.33,28.77,24.26,31.98,25.73,24.86,16.28,34.51,15.23,39.72,40.8,26.06,35.76,34.76,16.13,44.04,18.03,19.65,32.62,35.59,39.43,14.18,35.24,40.13,41.82,35.45,36.07,43.67,24.61,20.9,21.9,18.79,27.61,27.21,26.61,29.77,20.59,27.53,13.82,33.2,25,33.1,36.65,18.63,14.87,22.2,36.81,25.53,24.62,26.25,18.21,28.08,19.42,29.79,32.8,35.99,28.32,27.79,35.88,29.06,36.28,14.1,36.63,37.49,26.9,18.58,38.48,24.48,18.95,33.55,14.24,29.04,32.51,25.63,22.22,19,32.73,15.16,13.9,27.2,32.01,29.27,33,13.74,20.42,27.32,18.23,35.35,28.48,9.08,24.62,20.12,35.26,19.92,31.02,16.49,12.16,30.7,31.22,34.65,13.13,27.51,33.2,31.57,14.1,33.42,17.44,10.12,24.42,9.82,23.39,30.93,15.03,21.67,31.09,33.29,22.61,26.89,23.48,8.38,27.81,32.35,23.84]\n",
    "\n",
    "# 분 --> 시간\n",
    "daily_hours = [dm / 60 for dm in daily_minutes]"
   ]
  },
  {
   "cell_type": "markdown",
   "metadata": {},
   "source": [
    "## Covariance (공분산)\n",
    "+ $cov(X,Y) = E((X-\\mu)(Y-\\nu))$\n",
    "  - $X-\\mu$ : de_mean(X)\n",
    "  - $Y-\\nu$ : de_mean(Y)\n",
    "+ $X$의 값이 상승하는 경향을 보일 때, $Y$의 값도 상승하는 경향이 있다면, 공분산의 값은 양수. 반대의 경우는 음수"
   ]
  },
  {
   "cell_type": "code",
   "execution_count": 14,
   "metadata": {},
   "outputs": [],
   "source": [
    "from scratch.linear_algebra import dot\n",
    "\n",
    "def covariance(xs: List[float], ys: List[float]) -> float:\n",
    "    assert len(xs) == len(ys), \"xs and ys must have same number of elements\"\n",
    "\n",
    "    return dot(de_mean(xs), de_mean(ys)) / (len(xs) - 1)\n",
    "\n",
    "assert 22.42 < covariance(num_friends, daily_minutes) < 22.43\n",
    "assert 22.42 / 60 < covariance(num_friends, daily_hours) < 22.43 / 60"
   ]
  },
  {
   "cell_type": "code",
   "execution_count": 15,
   "metadata": {},
   "outputs": [
    {
     "name": "stdout",
     "output_type": "stream",
     "text": [
      "10.0\n",
      "100.0\n",
      "1.0\n",
      "-1.0\n"
     ]
    }
   ],
   "source": [
    "print( covariance([1,2,3], [10,20,30]) )\n",
    "print( covariance([1,2,3], [100,200,300]) )\n",
    "print( covariance([1,2,3], [3,4,5]) )\n",
    "print( covariance([1,2,3], [5,4,3]) )"
   ]
  },
  {
   "cell_type": "markdown",
   "metadata": {},
   "source": [
    "## 상관관계(Correlation)\n",
    "+ Pearson's Correlation Coefficient\n",
    "+ $\\rho={cov(X,Y)\\over{\\rho_X\\rho_y}}$\n",
    "+ X 와 Y 가 완전히 동일하면 +1, 전혀 다르면 0, 반대방향으로 완전히 동일 하면 –1"
   ]
  },
  {
   "cell_type": "code",
   "execution_count": 16,
   "metadata": {},
   "outputs": [],
   "source": [
    "def correlation(xs: List[float], ys: List[float]) -> float:\n",
    "    \"\"\"Measures how much xs and ys vary in tandem about their means\"\"\"\n",
    "    stdev_x = standard_deviation(xs)\n",
    "    stdev_y = standard_deviation(ys)\n",
    "    if stdev_x > 0 and stdev_y > 0:\n",
    "        return covariance(xs, ys) / stdev_x / stdev_y\n",
    "    else:\n",
    "        return 0    # if no variation, correlation is zero\n",
    "\n",
    "assert 0.24 < correlation(num_friends, daily_minutes) < 0.25\n",
    "assert 0.24 < correlation(num_friends, daily_hours) < 0.25\n"
   ]
  },
  {
   "cell_type": "code",
   "execution_count": 17,
   "metadata": {},
   "outputs": [],
   "source": [
    "outlier = num_friends.index(100)    # index of outlier\n",
    "\n",
    "num_friends_good = [x\n",
    "                    for i, x in enumerate(num_friends)\n",
    "                    if i != outlier]\n",
    "\n",
    "daily_minutes_good = [x\n",
    "                      for i, x in enumerate(daily_minutes)\n",
    "                      if i != outlier]\n",
    "\n",
    "daily_hours_good = [dm / 60 for dm in daily_minutes_good]\n",
    "\n",
    "assert 0.57 < correlation(num_friends_good, daily_minutes_good) < 0.58\n",
    "assert 0.57 < correlation(num_friends_good, daily_hours_good) < 0.58"
   ]
  },
  {
   "cell_type": "markdown",
   "metadata": {},
   "source": [
    "## Correlation vs. Covariance\n",
    "- Pearson's Correlation Coefficient : -1 ~ 1\n",
    "  + 값이 -1과 1 사이에 고정되기 때문에 Covariance 보다 다루기 좋다\n",
    "  + 예) 1에 가깝다면 \"매우 큰 양의 상관관계\"에 있다고 판단할 수 있다\n",
    "      - Covariance는 100, 200에 대해서도 상대적 비교가 힘들다 (\"매우 크다\" 또는 \"거의 일치한다\"라고 판단할 수 없다)\n",
    "- Covariance : $-\\propto$ ~ $\\propto$"
   ]
  },
  {
   "cell_type": "code",
   "execution_count": 18,
   "metadata": {},
   "outputs": [
    {
     "name": "stdout",
     "output_type": "stream",
     "text": [
      "correlation([1,1,1], [2,2,2]) 0\n",
      "correlation([1,2,3], [10,20,30]) 1.0\n",
      "correlation([1,2,3], [100,200,300]) 1.0\n",
      "correlation([1,2,3], [3,4,5]) 1.0\n",
      "correlation([1,2,3], [5,4,3]) -1.0\n",
      "covariance([80,90], [90,80]) -50.0\n",
      "correlation([80,90], [90,80]) -0.9999999999999999\n",
      "covariance([20,10], [90,80]) 50.0\n",
      "correlation([20,10], [90,80]) 0.9999999999999999\n"
     ]
    }
   ],
   "source": [
    "print( \"correlation([1,1,1], [2,2,2])\", correlation([1,1,1], [2,2,2]) )\n",
    "print( \"correlation([1,2,3], [10,20,30])\", correlation([1,2,3], [10,20,30]) )\n",
    "print( \"correlation([1,2,3], [100,200,300])\", correlation([1,2,3], [100,200,300]) )\n",
    "print( \"correlation([1,2,3], [3,4,5])\", correlation([1,2,3], [3,4,5]) )\n",
    "print( \"correlation([1,2,3], [5,4,3])\", correlation([1,2,3], [5,4,3]) )\n",
    "\n",
    "print( \"covariance([80,90], [90,80])\", covariance([80,90], [90,80]) )\n",
    "print( \"correlation([80,90], [90,80])\", correlation([80,90], [90,80]) )\n",
    "\n",
    "print( \"covariance([20,10], [90,80])\", covariance([20,10], [90,80]) )\n",
    "print( \"correlation([20,10], [90,80])\", correlation([20,10], [90,80]) )"
   ]
  },
  {
   "cell_type": "markdown",
   "metadata": {},
   "source": [
    "# Numpy\n",
    "+ 행렬이나 일반적으로 대규모 다차원 배열을 쉽게 처리 할 수 있도록 지원하는 파이썬의 라이브러리\n",
    "+ 여러 가지 자료구조와 수치 계산을 위한 다양한 기능을 제공 (통계기능 포함)\n",
    "  - 교재에서 구현한 통계 기능 기본 제공\n",
    "  - 데이터 분석에 자주 사용되는 필수 라이브러리"
   ]
  },
  {
   "cell_type": "code",
   "execution_count": 19,
   "metadata": {},
   "outputs": [
    {
     "name": "stdout",
     "output_type": "stream",
     "text": [
      "50.655\n",
      "50.5\n",
      "[40.  50.5 56. ]\n",
      "93.685975\n",
      "9.679151564057667\n",
      "[[ 81.54351396  22.42543514]\n",
      " [ 22.42543514 100.78589895]]\n",
      "[[1.         0.24736957]\n",
      " [0.24736957 1.        ]]\n"
     ]
    }
   ],
   "source": [
    "import numpy as np\n",
    "import random as rd\n",
    "\n",
    "x = [int(rd.gauss(50,10)) for _ in range (200)]\n",
    "#x = [int(np.random.lognormal(3,.5)) for _ in range (200)]\n",
    "#np.random.lognormal()\n",
    "\n",
    "print( np.mean(x) )\n",
    "\n",
    "print(np.median(x) )\n",
    "\n",
    "print(np.percentile(x, [10, 50, 68]) )\n",
    "\n",
    "print(np.var(x) )\n",
    "\n",
    "print(np.std(x) )\n",
    "\n",
    "print(np.cov(num_friends, daily_minutes))\n",
    "\n",
    "print(np.corrcoef(num_friends, daily_minutes))\n"
   ]
  },
  {
   "cell_type": "code",
   "execution_count": null,
   "metadata": {},
   "outputs": [],
   "source": []
  }
 ],
 "metadata": {
  "kernelspec": {
   "display_name": "Python 3",
   "language": "python",
   "name": "python3"
  },
  "language_info": {
   "codemirror_mode": {
    "name": "ipython",
    "version": 3
   },
   "file_extension": ".py",
   "mimetype": "text/x-python",
   "name": "python",
   "nbconvert_exporter": "python",
   "pygments_lexer": "ipython3",
   "version": "3.6.4"
  }
 },
 "nbformat": 4,
 "nbformat_minor": 2
}
