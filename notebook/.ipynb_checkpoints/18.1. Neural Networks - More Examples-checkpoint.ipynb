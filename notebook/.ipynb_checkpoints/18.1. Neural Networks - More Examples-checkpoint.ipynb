{
 "cells": [
  {
   "cell_type": "markdown",
   "metadata": {},
   "source": [
    "# Neural Networks - 추가 예제\n",
    "* 몇 가지 예제를 더 풀어보자\n",
    "\n",
    "1. 곱셈 기계\n",
    "   + Neural Network이 구구단을 외울 수 있을까?\n",
    "2. 숫자 이미지 인식\n",
    "   + 본 교재의 1st Edition에 나왔던 부분 (2nd Edition에서는 빠짐)"
   ]
  },
  {
   "cell_type": "code",
   "execution_count": 1,
   "metadata": {},
   "outputs": [],
   "source": [
    "import sys\n",
    "sys.path.append('..')\n",
    "\n",
    "from scratch.neural_networks import feed_forward, sqerror_gradients, binary_encode\n",
    "from scratch.gradient_descent import gradient_step\n",
    "from scratch.linear_algebra import squared_distance\n",
    "from scratch.linear_algebra import Vector, dot\n",
    "\n",
    "import random\n",
    "import tqdm"
   ]
  },
  {
   "cell_type": "code",
   "execution_count": 2,
   "metadata": {},
   "outputs": [],
   "source": [
    "def predict(network, input):\n",
    "    return feed_forward(network, input)[-1]"
   ]
  },
  {
   "cell_type": "markdown",
   "metadata": {},
   "source": [
    "# 예-1) 곱셈 기계\n",
    "* 책에는 나오지 않았지만 한 번 해 보자\n",
    "* Neural Network에게 구구단을 가르쳐 준다\n",
    "* 구구단을 외우면 곱셈도 할 수 있을까?"
   ]
  },
  {
   "cell_type": "markdown",
   "metadata": {},
   "source": [
    "### 학습용 데이터 만들기\n",
    "* 구구단 표\n",
    "* 입력: 두 숫자를 크기 20(10+10)의 Binary Encoding된 벡터로 표현\n",
    "    + 예) (2,2) &rarr; [0, 1, 0, 0, 0, 0, 0, 0, 0, 0] + [0, 1, 0, 0, 0, 0, 0, 0, 0, 0] &rarr; [0, 1, 0, 0, 0, 0, 0, 0, 0, 0, 0, 1, 0, 0, 0, 0, 0, 0, 0, 0]\n",
    "* 출력: 크기 10의 Binary Encoding된 벡터 (숫자 1개)"
   ]
  },
  {
   "cell_type": "code",
   "execution_count": 3,
   "metadata": {},
   "outputs": [],
   "source": [
    "xs = [binary_encode(n)+binary_encode(m) for n in range(1, 10) for m in range(1, 10)]\n",
    "ys = [binary_encode(n*m) for n in range(1, 10) for m in range(1, 10)]"
   ]
  },
  {
   "cell_type": "code",
   "execution_count": 4,
   "metadata": {},
   "outputs": [
    {
     "name": "stdout",
     "output_type": "stream",
     "text": [
      "Input (1, 1): [1, 0, 0, 0, 0, 0, 0, 0, 0, 0, 1, 0, 0, 0, 0, 0, 0, 0, 0, 0]\n",
      "Output (1): [1, 0, 0, 0, 0, 0, 0, 0, 0, 0]\n",
      "Input (9, 9): [1, 0, 0, 1, 0, 0, 0, 0, 0, 0, 1, 0, 0, 1, 0, 0, 0, 0, 0, 0]\n",
      "Output (81): [1, 0, 0, 0, 1, 0, 1, 0, 0, 0]\n"
     ]
    }
   ],
   "source": [
    "print( 'Input (1, 1):', xs[0])\n",
    "print( 'Output (1):', ys[0])\n",
    "\n",
    "print( 'Input (9, 9):', xs[-1])\n",
    "print( 'Output (81):', ys[-1])"
   ]
  },
  {
   "cell_type": "markdown",
   "metadata": {},
   "source": [
    "### 학습시키기"
   ]
  },
  {
   "cell_type": "code",
   "execution_count": 5,
   "metadata": {},
   "outputs": [],
   "source": [
    "def train(net_shape, xs, ys, epochs=500, learning_rate=1.0, title='Progress'):\n",
    "\n",
    "    network = [\n",
    "            # hidden layer: INPUT_SIZE inputs -> NUM_HIDDEN outputs\n",
    "            [[random.random()*(1.0/(net_shape[0]*net_shape[1])) for _ in range(net_shape[0] + 1)] for _ in range(net_shape[1])],\n",
    "\n",
    "            # output_layer: NUM_HIDDEN inputs -> OUTPUT_SIZE outputs\n",
    "            [[random.random()*(1.0/(net_shape[1]*net_shape[2])) for _ in range(net_shape[1] + 1)] for _ in range(net_shape[2])]\n",
    "        ]\n",
    "    \n",
    "    with tqdm.trange(epochs) as t:\n",
    "        for epoch in t:\n",
    "            epoch_loss = 0.0\n",
    "\n",
    "            for x, y in zip(xs, ys):\n",
    "                predicted = feed_forward(network, x)[-1]\n",
    "                epoch_loss += squared_distance(predicted, y)\n",
    "                gradients = sqerror_gradients(network, x, y)\n",
    "\n",
    "                # Take a gradient step for each neuron in each layer\n",
    "                network = [[gradient_step(neuron, grad, -learning_rate)\n",
    "                            for neuron, grad in zip(layer, layer_grad)]\n",
    "                        for layer, layer_grad in zip(network, gradients)]\n",
    "\n",
    "            t.set_description(f\"{title} (loss: {epoch_loss:.2f})\")\n",
    "                \n",
    "    return network\n",
    "            "
   ]
  },
  {
   "cell_type": "code",
   "execution_count": 6,
   "metadata": {},
   "outputs": [
    {
     "name": "stderr",
     "output_type": "stream",
     "text": [
      "구구단을 외자 (loss: 9.12): 100%|████████████████████████████████████████████████████████| 1000/1000 [01:43<00:00,  9.69it/s]\n"
     ]
    }
   ],
   "source": [
    "NUM_INPUT = 20  # 10자리 Binary Encoding된 숫자 2개\n",
    "NUM_HIDDEN = 20\n",
    "NUM_OUTPUT = 10\n",
    "network = train([NUM_INPUT,NUM_HIDDEN,NUM_OUTPUT], xs, ys, learning_rate=1, epochs=1000, title=\"구구단을 외자\")\n"
   ]
  },
  {
   "cell_type": "markdown",
   "metadata": {},
   "source": [
    "### Test\n",
    "* 학습할 때 사용하지 않은 데이터로 테스트\n",
    "  + 예) 10단, 11단\n",
    "* 테스트 결과를 보기 좋도록 Binary Decoding 후 출력"
   ]
  },
  {
   "cell_type": "code",
   "execution_count": 7,
   "metadata": {},
   "outputs": [],
   "source": [
    "def binary_decode(x: Vector) -> int:\n",
    "    result = 0;\n",
    "    for i, digit in enumerate(x):\n",
    "        result += digit*pow(2,i)\n",
    "\n",
    "    return result"
   ]
  },
  {
   "cell_type": "code",
   "execution_count": 8,
   "metadata": {},
   "outputs": [
    {
     "data": {
      "text/plain": [
       "[0, 1, 0, 1, 0, 0, 0, 0, 0, 0]"
      ]
     },
     "execution_count": 8,
     "metadata": {},
     "output_type": "execute_result"
    }
   ],
   "source": [
    "binary_encode(10)"
   ]
  },
  {
   "cell_type": "code",
   "execution_count": 9,
   "metadata": {},
   "outputs": [
    {
     "data": {
      "text/plain": [
       "10"
      ]
     },
     "execution_count": 9,
     "metadata": {},
     "output_type": "execute_result"
    }
   ],
   "source": [
    "binary_decode([0, 1, 0, 1, 0, 0, 0, 0, 0, 0])"
   ]
  },
  {
   "cell_type": "markdown",
   "metadata": {},
   "source": [
    "### 구구단은 잘 외웠나?"
   ]
  },
  {
   "cell_type": "code",
   "execution_count": 12,
   "metadata": {},
   "outputs": [],
   "source": [
    "test_xs = [binary_encode(n)+binary_encode(m) for n in range(1, 10) for m in range(1, 10)]\n",
    "test_ys = [binary_encode(n*m) for n in range(1, 10) for m in range(1, 10)]"
   ]
  },
  {
   "cell_type": "code",
   "execution_count": 13,
   "metadata": {},
   "outputs": [
    {
     "name": "stdout",
     "output_type": "stream",
     "text": [
      "1 x 1 1 1\n",
      "1 x 2 2 2\n",
      "1 x 3 3 3\n",
      "1 x 4 4 4\n",
      "1 x 5 5 5\n",
      "1 x 6 6 6\n",
      "1 x 7 7 7\n",
      "1 x 8 8 8\n",
      "1 x 9 9 9\n",
      "2 x 1 2 2\n",
      "2 x 2 4 4\n",
      "2 x 3 6 6\n",
      "2 x 4 8 8\n",
      "2 x 5 10 10\n",
      "2 x 6 12 12\n",
      "2 x 7 14 14\n",
      "2 x 8 16 16\n",
      "2 x 9 18 18\n",
      "3 x 1 3 3\n",
      "3 x 2 6 6\n",
      "3 x 3 11 9\n",
      "3 x 4 12 12\n",
      "3 x 5 7 15\n",
      "3 x 6 22 18\n",
      "3 x 7 23 21\n",
      "3 x 8 24 24\n",
      "3 x 9 27 27\n",
      "4 x 1 4 4\n",
      "4 x 2 8 8\n",
      "4 x 3 12 12\n",
      "4 x 4 16 16\n",
      "4 x 5 20 20\n",
      "4 x 6 24 24\n",
      "4 x 7 28 28\n",
      "4 x 8 32 32\n",
      "4 x 9 36 36\n",
      "5 x 1 5 5\n",
      "5 x 2 10 10\n",
      "5 x 3 15 15\n",
      "5 x 4 20 20\n",
      "5 x 5 29 25\n",
      "5 x 6 30 30\n",
      "5 x 7 35 35\n",
      "5 x 8 40 40\n",
      "5 x 9 45 45\n",
      "6 x 1 6 6\n",
      "6 x 2 12 12\n",
      "6 x 3 22 18\n",
      "6 x 4 24 24\n",
      "6 x 5 30 30\n",
      "6 x 6 36 36\n",
      "6 x 7 42 42\n",
      "6 x 8 48 48\n",
      "6 x 9 54 54\n",
      "7 x 1 7 7\n",
      "7 x 2 14 14\n",
      "7 x 3 23 21\n",
      "7 x 4 28 28\n",
      "7 x 5 35 35\n",
      "7 x 6 42 42\n",
      "7 x 7 51 49\n",
      "7 x 8 56 56\n",
      "7 x 9 63 63\n",
      "8 x 1 8 8\n",
      "8 x 2 16 16\n",
      "8 x 3 24 24\n",
      "8 x 4 32 32\n",
      "8 x 5 40 40\n",
      "8 x 6 48 48\n",
      "8 x 7 56 56\n",
      "8 x 8 64 64\n",
      "8 x 9 72 72\n",
      "9 x 1 9 9\n",
      "9 x 2 18 18\n",
      "9 x 3 27 27\n",
      "9 x 4 36 36\n",
      "9 x 5 45 45\n",
      "9 x 6 54 54\n",
      "9 x 7 63 63\n",
      "9 x 8 72 72\n",
      "9 x 9 89 81\n",
      "72 / 81\n"
     ]
    }
   ],
   "source": [
    "num_correct = 0\n",
    "\n",
    "for i, x in enumerate(test_xs):\n",
    "    predicted = [round(xi) for xi in feed_forward(network, x)[-1]]\n",
    "    actual = test_ys[i]\n",
    "    print( binary_decode(x[:10]),'x', binary_decode(x[10:]), binary_decode(predicted), binary_decode(actual) )\n",
    "\n",
    "    if predicted == actual:\n",
    "        num_correct += 1\n",
    "\n",
    "print(num_correct, \"/\", len(test_xs))"
   ]
  },
  {
   "cell_type": "markdown",
   "metadata": {},
   "source": [
    "### 외우지 않은 10단, 11단에 대해서는?\n",
    "* 구구단 외우는 과정에서 곱셈 원리를 학습했을까?"
   ]
  },
  {
   "cell_type": "code",
   "execution_count": 14,
   "metadata": {},
   "outputs": [],
   "source": [
    "test_xs = [binary_encode(n)+binary_encode(m) for n in range(10, 12) for m in range(1, 10)]\n",
    "test_ys = [binary_encode(n*m) for n in range(10, 12) for m in range(1, 10)]"
   ]
  },
  {
   "cell_type": "code",
   "execution_count": 15,
   "metadata": {},
   "outputs": [
    {
     "name": "stdout",
     "output_type": "stream",
     "text": [
      "10 x 1 18 10\n",
      "10 x 2 20 20\n",
      "10 x 3 18 30\n",
      "10 x 4 48 40\n",
      "10 x 5 56 50\n",
      "10 x 6 52 60\n",
      "10 x 7 54 70\n",
      "10 x 8 16 80\n",
      "10 x 9 92 90\n",
      "11 x 1 27 11\n",
      "11 x 2 22 22\n",
      "11 x 3 27 33\n",
      "11 x 4 60 44\n",
      "11 x 5 63 55\n",
      "11 x 6 54 66\n",
      "11 x 7 55 77\n",
      "11 x 8 28 88\n",
      "11 x 9 91 99\n",
      "2 / 18\n"
     ]
    }
   ],
   "source": [
    "\n",
    "num_correct = 0\n",
    "\n",
    "for i, x in enumerate(test_xs):\n",
    "    predicted = [round(xi) for xi in feed_forward(network, x)[-1]]\n",
    "    actual = test_ys[i]\n",
    "    print( binary_decode(x[:10]),'x', binary_decode(x[10:]), binary_decode(predicted), binary_decode(actual) )\n",
    "\n",
    "    if predicted == actual:\n",
    "        num_correct += 1\n",
    "\n",
    "print(num_correct, \"/\", len(test_xs))"
   ]
  },
  {
   "cell_type": "markdown",
   "metadata": {},
   "source": [
    "* 구구단을 제대로 처리하지는 못하지만, 비슷하게 곱셈 원리를 학습하기는 하는 것 같다\n",
    "* 학습 데이터를 더 풍부하게 바꿔보기\n",
    "  + 예) 정수 외에 실수도 포함하기, 1~9단 외에 더 많은 학습 데이터 적용해 보기\n",
    "* 학습 파라미터 조정해 보기\n",
    "  + 예) Hidden Layer 크기 바꿔보기, Learning Late 바꿔보기, Epoch(반복횟수) 바꿔보기\n",
    "* 곱셈을 정확하게 계산하지는 못하겠지만, 어느 정도 근접한 곱셈결과를 낼 수는 있을 것 같다"
   ]
  },
  {
   "cell_type": "markdown",
   "metadata": {},
   "source": [
    "# 예-2) 숫자 이미지 인식\n",
    "* 5x5 이미지 &rarr; 숫자\n",
    "![CAPCHA](images/capcha.png)"
   ]
  },
  {
   "cell_type": "code",
   "execution_count": 16,
   "metadata": {},
   "outputs": [],
   "source": [
    "    raw_digits = [\n",
    "          \"\"\"11111\n",
    "             1...1\n",
    "             1...1\n",
    "             1...1\n",
    "             11111\"\"\",\n",
    "\n",
    "          \"\"\"..1..\n",
    "             ..1..\n",
    "             ..1..\n",
    "             ..1..\n",
    "             ..1..\"\"\",\n",
    "\n",
    "          \"\"\"11111\n",
    "             ....1\n",
    "             11111\n",
    "             1....\n",
    "             11111\"\"\",\n",
    "\n",
    "          \"\"\"11111\n",
    "             ....1\n",
    "             11111\n",
    "             ....1\n",
    "             11111\"\"\",\n",
    "\n",
    "          \"\"\"1...1\n",
    "             1...1\n",
    "             11111\n",
    "             ....1\n",
    "             ....1\"\"\",\n",
    "\n",
    "          \"\"\"11111\n",
    "             1....\n",
    "             11111\n",
    "             ....1\n",
    "             11111\"\"\",\n",
    "\n",
    "          \"\"\"11111\n",
    "             1....\n",
    "             11111\n",
    "             1...1\n",
    "             11111\"\"\",\n",
    "\n",
    "          \"\"\"11111\n",
    "             ....1\n",
    "             ....1\n",
    "             ....1\n",
    "             ....1\"\"\",\n",
    "\n",
    "          \"\"\"11111\n",
    "             1...1\n",
    "             11111\n",
    "             1...1\n",
    "             11111\"\"\",\n",
    "\n",
    "          \"\"\"11111\n",
    "             1...1\n",
    "             11111\n",
    "             ....1\n",
    "             11111\"\"\"]\n"
   ]
  },
  {
   "cell_type": "code",
   "execution_count": 17,
   "metadata": {},
   "outputs": [
    {
     "data": {
      "text/plain": [
       "'11111\\n         1...1\\n         1...1\\n         1...1\\n         11111'"
      ]
     },
     "execution_count": 17,
     "metadata": {},
     "output_type": "execute_result"
    }
   ],
   "source": [
    "raw_digits[0]"
   ]
  },
  {
   "cell_type": "markdown",
   "metadata": {},
   "source": [
    "### 간단한 전처리\n",
    "* 이미지 &rarr; 벡터"
   ]
  },
  {
   "cell_type": "code",
   "execution_count": 18,
   "metadata": {},
   "outputs": [],
   "source": [
    "def make_digit(raw_digit):\n",
    "    return [1 if c == '1' else 0\n",
    "            for row in raw_digit.split(\"\\n\")\n",
    "            for c in row.strip()]\n",
    "\n",
    "inputs = list(map(make_digit, raw_digits))\n",
    "targets = [[1 if i == j else 0 for i in range(10)]\n",
    "           for j in range(10)]"
   ]
  },
  {
   "cell_type": "code",
   "execution_count": 19,
   "metadata": {},
   "outputs": [
    {
     "data": {
      "text/plain": [
       "[1, 1, 1, 1, 1, 1, 0, 0, 0, 1, 1, 0, 0, 0, 1, 1, 0, 0, 0, 1, 1, 1, 1, 1, 1]"
      ]
     },
     "execution_count": 19,
     "metadata": {},
     "output_type": "execute_result"
    }
   ],
   "source": [
    "inputs[0]"
   ]
  },
  {
   "cell_type": "code",
   "execution_count": 20,
   "metadata": {},
   "outputs": [
    {
     "data": {
      "text/plain": [
       "[[1, 0, 0, 0, 0, 0, 0, 0, 0, 0],\n",
       " [0, 1, 0, 0, 0, 0, 0, 0, 0, 0],\n",
       " [0, 0, 1, 0, 0, 0, 0, 0, 0, 0],\n",
       " [0, 0, 0, 1, 0, 0, 0, 0, 0, 0],\n",
       " [0, 0, 0, 0, 1, 0, 0, 0, 0, 0],\n",
       " [0, 0, 0, 0, 0, 1, 0, 0, 0, 0],\n",
       " [0, 0, 0, 0, 0, 0, 1, 0, 0, 0],\n",
       " [0, 0, 0, 0, 0, 0, 0, 1, 0, 0],\n",
       " [0, 0, 0, 0, 0, 0, 0, 0, 1, 0],\n",
       " [0, 0, 0, 0, 0, 0, 0, 0, 0, 1]]"
      ]
     },
     "execution_count": 20,
     "metadata": {},
     "output_type": "execute_result"
    }
   ],
   "source": [
    "targets"
   ]
  },
  {
   "cell_type": "code",
   "execution_count": 21,
   "metadata": {},
   "outputs": [
    {
     "name": "stdout",
     "output_type": "stream",
     "text": [
      "[1, 1, 1, 1, 1]\n",
      "[1, 0, 0, 0, 1]\n",
      "[1, 0, 0, 0, 1]\n",
      "[1, 0, 0, 0, 1]\n",
      "[1, 1, 1, 1, 1]\n"
     ]
    }
   ],
   "source": [
    "# 예쁘게 그려보기\n",
    "for i in range(5):\n",
    "    at = i*5\n",
    "    print(inputs[0][at:at+5])"
   ]
  },
  {
   "cell_type": "markdown",
   "metadata": {},
   "source": [
    "### Neural Net 구성 &rarr; 학습시키기\n",
    "* input_size : 25  (5x5)\n",
    "* num_hidden : 5   (5 neurons)\n",
    "* output_size : 10 (0~9)\n",
    "![CAPCHA- Neural Net 구성](images/capcha_network.png)"
   ]
  },
  {
   "cell_type": "code",
   "execution_count": 22,
   "metadata": {},
   "outputs": [
    {
     "name": "stderr",
     "output_type": "stream",
     "text": [
      "숫자를 외자 (loss: 0.11): 100%|████████████████████████████████████████████████████████| 1000/1000 [00:06<00:00, 159.69it/s]\n"
     ]
    }
   ],
   "source": [
    "random.seed(0)\n",
    "NUM_INPUT = 25  # 10자리 Binary Encoding된 숫자 2개\n",
    "NUM_HIDDEN = 5\n",
    "NUM_OUTPUT = 10\n",
    "dg_network = train([NUM_INPUT,NUM_HIDDEN,NUM_OUTPUT], inputs, targets, learning_rate=1, epochs=1000, title=\"숫자를 외자\")"
   ]
  },
  {
   "cell_type": "code",
   "execution_count": 23,
   "metadata": {},
   "outputs": [
    {
     "data": {
      "text/plain": [
       "[1, 0, 0, 0, 0, 0, 0, 0, 0, 0]"
      ]
     },
     "execution_count": 23,
     "metadata": {},
     "output_type": "execute_result"
    }
   ],
   "source": [
    "targets[0]"
   ]
  },
  {
   "cell_type": "markdown",
   "metadata": {},
   "source": [
    "### 결과 확인 (1) - 원래 이미지\n",
    "* 학습할 때 사용한 이미지를 잘 인식하는가?"
   ]
  },
  {
   "cell_type": "code",
   "execution_count": 24,
   "metadata": {},
   "outputs": [
    {
     "name": "stdout",
     "output_type": "stream",
     "text": [
      "[[0.9519890313766542, 0.0007916744887814579, 0.01775077133293212, 1.3272441755803134e-05, 1.4624749322123292e-07, 3.852022489723377e-06, 0.0032962370091791093, 0.023776154354715584, 0.06422709164062841, 0.005612443925722368], [0.004861813159308208, 0.9572187892487679, 0.037842397263508847, 0.021080279658466667, 0.00010859471349257848, 0.038091239472671685, 0.003027420534088784, 0.02041596071981473, 2.648661749948163e-07, 2.0603797416086029e-07], [0.03362144922021304, 0.023472265067810083, 0.9329336663231932, 0.029193328710580755, 1.307309803251208e-07, 3.1785938863690434e-06, 0.013585500105133874, 0.0007178145303998776, 0.043274685817357224, 0.0003066532581367945], [1.2161086361951367e-05, 0.016796202047993845, 0.023818021577027712, 0.949959261814947, 0.03082421992904824, 7.29238648447239e-05, 9.28982070944685e-06, 0.020956410743968843, 0.00010103887648317763, 0.02073697248519777], [1.9567952790722937e-05, 0.0016628955347728232, 2.3723728696335303e-06, 0.031191429204911022, 0.9252830513088266, 0.06934578994533651, 4.569940596981742e-05, 0.018946033297195877, 3.373798469130397e-05, 0.05452063175954454], [4.709394881887207e-05, 0.019337563365823183, 1.4336098933431327e-05, 0.00036677643967492085, 0.037390623334404835, 0.9053236653281673, 0.05055717769624626, 5.3028756450801244e-05, 4.224282171470229e-05, 1.0366935502377914e-05], [0.0009239388618744848, 0.018790917238946693, 0.03403330626047971, 0.0007557622007881602, 0.0001777262828506836, 0.06648990871638574, 0.9333945127247005, 7.675758054132128e-06, 0.07276501998161972, 0.00010684651657305884], [0.024154910109045698, 0.012432632449022757, 2.6938761563889993e-05, 0.017518907780079123, 0.030898484497118288, 0.00010166289658733034, 1.2487370652016656e-07, 0.9576549351329219, 9.109128457672206e-07, 0.02839279390022717], [0.028220157516602767, 3.692494389440671e-05, 0.03698921720765955, 0.00031122541349929073, 2.2616406127335903e-06, 1.1678641994038447e-05, 0.03920955164074178, 7.11798129992599e-05, 0.8902690160194231, 0.05612992532497801], [0.0010702091369958167, 4.23292216225947e-05, 0.00023101785588197315, 0.01816193565200785, 0.051642119344345094, 4.032349921636495e-05, 0.0001077323439986553, 0.01764864508297022, 0.07063082498013103, 0.922342749455619]]\n"
     ]
    }
   ],
   "source": [
    "outputs = [predict(dg_network, input) for input in inputs]\n",
    "print(outputs)\n",
    "    "
   ]
  },
  {
   "cell_type": "code",
   "execution_count": 25,
   "metadata": {},
   "outputs": [
    {
     "name": "stdout",
     "output_type": "stream",
     "text": [
      "[1, 1, 1, 1, 1, 1, 0, 0, 0, 1, 1, 0, 0, 0, 1, 1, 0, 0, 0, 1, 1, 1, 1, 1, 1] [0.95, 0.0, 0.02, 0.0, 0.0, 0.0, 0.0, 0.02, 0.06, 0.01]\n",
      "[0, 0, 1, 0, 0, 0, 0, 1, 0, 0, 0, 0, 1, 0, 0, 0, 0, 1, 0, 0, 0, 0, 1, 0, 0] [0.0, 0.96, 0.04, 0.02, 0.0, 0.04, 0.0, 0.02, 0.0, 0.0]\n",
      "[1, 1, 1, 1, 1, 0, 0, 0, 0, 1, 1, 1, 1, 1, 1, 1, 0, 0, 0, 0, 1, 1, 1, 1, 1] [0.03, 0.02, 0.93, 0.03, 0.0, 0.0, 0.01, 0.0, 0.04, 0.0]\n",
      "[1, 1, 1, 1, 1, 0, 0, 0, 0, 1, 1, 1, 1, 1, 1, 0, 0, 0, 0, 1, 1, 1, 1, 1, 1] [0.0, 0.02, 0.02, 0.95, 0.03, 0.0, 0.0, 0.02, 0.0, 0.02]\n",
      "[1, 0, 0, 0, 1, 1, 0, 0, 0, 1, 1, 1, 1, 1, 1, 0, 0, 0, 0, 1, 0, 0, 0, 0, 1] [0.0, 0.0, 0.0, 0.03, 0.93, 0.07, 0.0, 0.02, 0.0, 0.05]\n",
      "[1, 1, 1, 1, 1, 1, 0, 0, 0, 0, 1, 1, 1, 1, 1, 0, 0, 0, 0, 1, 1, 1, 1, 1, 1] [0.0, 0.02, 0.0, 0.0, 0.04, 0.91, 0.05, 0.0, 0.0, 0.0]\n",
      "[1, 1, 1, 1, 1, 1, 0, 0, 0, 0, 1, 1, 1, 1, 1, 1, 0, 0, 0, 1, 1, 1, 1, 1, 1] [0.0, 0.02, 0.03, 0.0, 0.0, 0.07, 0.93, 0.0, 0.07, 0.0]\n",
      "[1, 1, 1, 1, 1, 0, 0, 0, 0, 1, 0, 0, 0, 0, 1, 0, 0, 0, 0, 1, 0, 0, 0, 0, 1] [0.02, 0.01, 0.0, 0.02, 0.03, 0.0, 0.0, 0.96, 0.0, 0.03]\n",
      "[1, 1, 1, 1, 1, 1, 0, 0, 0, 1, 1, 1, 1, 1, 1, 1, 0, 0, 0, 1, 1, 1, 1, 1, 1] [0.03, 0.0, 0.04, 0.0, 0.0, 0.0, 0.04, 0.0, 0.89, 0.06]\n",
      "[1, 1, 1, 1, 1, 1, 0, 0, 0, 1, 1, 1, 1, 1, 1, 0, 0, 0, 0, 1, 1, 1, 1, 1, 1] [0.0, 0.0, 0.0, 0.02, 0.05, 0.0, 0.0, 0.02, 0.07, 0.92]\n"
     ]
    }
   ],
   "source": [
    "# 좀 더 알아보기 좋게 출력\n",
    "for i, o in zip(inputs,outputs):\n",
    "    o_round = [ round(o_law,2) for o_law in o]\n",
    "    print( i, o_round)"
   ]
  },
  {
   "cell_type": "markdown",
   "metadata": {},
   "source": [
    "### 결과 확인 (2) - 훼손된 이미지, 필기체\n",
    "* 잘 학습된 Network이라면 어느정도 훼손된 데이터도 처리할 수 있다\n",
    "![훼손된 이미지](images/ugly_image.png)"
   ]
  },
  {
   "cell_type": "code",
   "execution_count": 27,
   "metadata": {},
   "outputs": [
    {
     "name": "stdout",
     "output_type": "stream",
     "text": [
      "[0.01, 0.01, 0.46, 0.32, 0.0, 0.0, 0.0, 0.06, 0.07, 0.5]\n"
     ]
    }
   ],
   "source": [
    "predicted = predict(dg_network,  \n",
    "                [0,1,1,1,0,    # .@@@.\n",
    "                 0,0,0,1,1,    # ...@@\n",
    "                 0,0,1,1,0,    # ..@@.\n",
    "                 0,0,0,1,1,    # ...@@\n",
    "                 0,1,1,1,0])   # .@@@.\n",
    "print([round(x, 2) for x in predicted]) "
   ]
  },
  {
   "cell_type": "code",
   "execution_count": 28,
   "metadata": {},
   "outputs": [
    {
     "name": "stdout",
     "output_type": "stream",
     "text": [
      "[0.03, 0.0, 0.03, 0.0, 0.0, 0.0, 0.04, 0.0, 0.9, 0.06]\n"
     ]
    }
   ],
   "source": [
    "predicted = predict(dg_network,  \n",
    "                [0,1,1,1,0,    # .@@@.\n",
    "                 1,0,0,1,1,    # @..@@\n",
    "                 0,1,1,1,0,    # .@@@.\n",
    "                 1,0,0,1,1,    # @..@@\n",
    "                 0,1,1,1,0])   # .@@@.\n",
    "print([round(x, 2) for x in predicted])"
   ]
  }
 ],
 "metadata": {
  "kernelspec": {
   "display_name": "Python 3",
   "language": "python",
   "name": "python3"
  },
  "language_info": {
   "codemirror_mode": {
    "name": "ipython",
    "version": 3
   },
   "file_extension": ".py",
   "mimetype": "text/x-python",
   "name": "python",
   "nbconvert_exporter": "python",
   "pygments_lexer": "ipython3",
   "version": "3.6.4"
  }
 },
 "nbformat": 4,
 "nbformat_minor": 2
}
