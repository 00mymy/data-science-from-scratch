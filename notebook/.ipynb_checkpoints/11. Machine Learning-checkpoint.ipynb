{
 "cells": [
  {
   "cell_type": "markdown",
   "metadata": {},
   "source": [
    "# 개요\n",
    "* 머신러닝의 개념\n",
    "  + Supervised vs. Unsupervised\n",
    "* Machine Learning Process\n",
    "  + 일반적인 절차와 과정\n",
    "  + Training-set vs. Test-set\n",
    "  + Correctness (평가하기)\n",
    "  \n",
    "## Machine Learning\n",
    "* 일반적인 컴퓨터 프로그램은?\n",
    "  + 사람이 문제를 풀고, 그 해답을 프로그램으로 구현한다\n",
    "  + 또는 문제푸는 원리나 방법을 프로그램으로 구현한다\n",
    "  + 예) 양력을 음력으로 변환, 전형적인 계산기, 통계SW 등 우리가 아는 대부분의 프로그램\n",
    "* Machine Learning\n",
    "  + 기계(컴퓨터 프로그램)를 공부시킨다 &rarr; 공부한 기계가 문제를 푼다\n",
    "    - 문제를 푸는 알고리즘이 아니라, 문제 푸는 방법을 학습하는 알고리즘을 프로그램으로 구현\n",
    "    - \"문제 푸는 방법을 학습하는 알고리즘\"을 \"모델(Model)\"이라고 한다\n",
    "  + 일반적으로 \"공부(학습, Training)\" 과정이 필요하다\n",
    "  + 공부한 내용이나 정도에 따라 결과가 달라질 수 있다\n",
    "    - 같은 입력에 대해 항상 같은 결과가 나오지는 않는다 \n",
    "  + 공부하지 않은 내용에 대해서도 답을 낼 수 있다 (충실히 공부할수록 더 좋은 답을 낸다)\n",
    "  + 기계가 학습할 수 있는 데이터가 있어야한다 (데이터를 가지고 공부한다)\n",
    "  + 예) 축구선수 경기평점 계산기\n",
    "    - 경기 기록을 토대로 평점을 계산하는 공식이 있다 (Not Machine Learning)\n",
    "    - 평점 계산하는 공식이 없다 (Machine Learning)\n",
    "    \n",
    "    \n",
    "## 이런 문제를 풀 수 있다\n",
    "* 이메일이 스팸인가 아닌가?\n",
    "* 신용카드 거래가 정상적인가 비정상적인가?\n",
    "* 쇼핑고객이 클릭할 가능성이 높은 상품은 무엇인가?\n",
    "* K리그에서 어느 팀이 우승할까?\n",
    "\n",
    "\n",
    "## Supervised vs Unsupervised\n",
    "* Supervised\n",
    "  + 알고있는 정답을 가지고 학습한 후, 학습한 내용을 바탕으로 결과를 낸다\n",
    "  + 예) 스팸 메일 판별기\n",
    "    - 스팸 메일인지 아닌지 알고 있는 메일 샘플들을 가지고 학습한다\n",
    "  + 예) 환자 자동진단\n",
    "    - 환자들의 증상과 진단결과를 이용하여 학습 &rarr; 증상이 주어졌을 때 진단명 예측하기 \n",
    "* Unsupervised\n",
    "  + 학습 과정 없이 알아서 처리한다.\n",
    "  + 예) 환자들의 증상이 주어졌을 때, 비슷한 증상이 나타나는 환자군들로 자동분류하기\n",
    "* 대부분의 머신러닝 응용은 Supervised Learning을 사용\n",
    "\n",
    "\n",
    "## Overfitting vs. Underfitting\n",
    "* Overfitting (너무 곧이 곧대로 학습)\n",
    "  + 주어진 데이터에 너무 충실하게 학습하면 새로운 데이터에 대해 적응하지 못한다\n",
    "* Underfitting (약간 건성건성 학습)\n",
    "  + 너무 건성건성 학습하면 정확한 답을 내지 못한다\n",
    "* 적당한 수준에서 학습(Fitting)해야 한다\n",
    "  + Overfitting 안되게, 그렇다고 Underfitting 안되게\n",
    "  + 학습 데이터셋을 잘 만들어야하며, 여러가지 변수를 조정하면서 반복... 반복..."
   ]
  },
  {
   "cell_type": "code",
   "execution_count": 44,
   "metadata": {},
   "outputs": [
    {
     "data": {
      "image/png": "[encoded data removed]",
      "text/plain": [
       "<Figure size 432x288 with 1 Axes>"
      ]
     },
     "metadata": {
      "needs_background": "light"
     },
     "output_type": "display_data"
    }
   ],
   "source": [
    "xy = [(2.5,3.5), (3,7), (4,6), (4.2,7), (5,10), (5.2,10), (6,12.5), (7.8, 15), (8,16.5), (8.5, 17)]\n",
    "x = [d[0] for d in xy]\n",
    "y = [d[1] for d in xy]\n",
    "\n",
    "import matplotlib.pyplot as plt\n",
    "from scipy.interpolate import make_interp_spline, BSpline\n",
    "import numpy as np\n",
    "\n",
    "# 300 represents number of points to make between min and max\n",
    "xnew = np.linspace(2.5, 8.5, 100) \n",
    "\n",
    "spl = make_interp_spline(x, y, k=9)  # type: BSpline\n",
    "ynew = spl(xnew)\n",
    "\n",
    "plt.scatter(x,y,  label=\"Source\")\n",
    "plt.plot(xnew, ynew, 'r-.', label=\"Overfitting\")\n",
    "plt.plot([2,9], [4,18], 'g', label=\"Good\")\n",
    "plt.plot([2,9], [np.mean(y), np.mean(y)], 'b--', label=\"Underfitting\")\n",
    "plt.legend()\n",
    "plt.show()\n"
   ]
  },
  {
   "cell_type": "markdown",
   "metadata": {},
   "source": [
    "* 위 그림에서 사용한 Source Data를 살펴보면, 대략 $y=2x$ 정도의 관계임을 짐작할 수 있다 (그냥 찍어보니까...)\n",
    "* (초록) 잘 학습된 예측기는 $y=2x$에 근접한 수식을 얻을 것이다.\n",
    "  - 새로운 입력으로 $x=7$을 받았을 때, $y=14$라고 예측할 것이다\n",
    "* (빨강) 주어진 샘플 데이터에는 정확히 대응하지만, 새로운 입력이 들어오면 엉뚱한 답을 낼 수 있다. (쓸데없이 고차 방정식을 풀었다)\n",
    "* (파랑) $y$값의 평균으로 답을한다. 너무 엉성하다."
   ]
  },
  {
   "cell_type": "markdown",
   "metadata": {},
   "source": [
    "# Training set vs.Test set\n",
    "* Training set : 훈련/학습용 데이터\n",
    "* Test set : 평가용 데이터\n",
    "* 뭔가 머신러닝을 돌리고자하는 데이터셋이 있을 때, 적당한 비율로 학습용 데이터넷과 훈련용 데이터셋으로 나눈다\n",
    "  + 예) 1만개의 데이터가 있다. \n",
    "    - 8천개를 랜덤하게 추출해서 학습(Training)을 시키고, 나머지 2천개를 이용하여 채점(Test)해 본다\n",
    "* Supervised Learning에서는 항상 쓰이는 도구이다"
   ]
  },
  {
   "cell_type": "code",
   "execution_count": 45,
   "metadata": {},
   "outputs": [],
   "source": [
    "import random\n",
    "from typing import TypeVar, List, Tuple\n",
    "X = TypeVar('X')  # generic type to represent a data point\n",
    "\n",
    "def split_data(data: List[X], prob: float) -> Tuple[List[X], List[X]]:\n",
    "    \"\"\"Split data into fractions [prob, 1 - prob]\"\"\"\n",
    "    data = data[:]                    # Make a shallow copy\n",
    "    random.shuffle(data)              # because shuffle modifies the list.\n",
    "    cut = int(len(data) * prob)       # Use prob to find a cutoff\n",
    "    return data[:cut], data[cut:]     # and split the shuffled list there.\n",
    "\n",
    "data = [n for n in range(1000)]\n",
    "train, test = split_data(data, 0.75)\n",
    "\n",
    "# The proportions should be correct\n",
    "assert len(train) == 750\n",
    "assert len(test) == 250\n",
    "\n",
    "# And the original data should be preserved (in some order)\n",
    "assert sorted(train + test) == data"
   ]
  },
  {
   "cell_type": "code",
   "execution_count": 46,
   "metadata": {},
   "outputs": [],
   "source": [
    "Y = TypeVar('Y')  # generic type to represent output variables\n",
    "\n",
    "def train_test_split(xs: List[X],\n",
    "                     ys: List[Y],\n",
    "                     test_pct: float) -> Tuple[List[X], List[X], List[Y], List[Y]]:\n",
    "    # Generate the indices and split them.\n",
    "    idxs = [i for i in range(len(xs))]\n",
    "    train_idxs, test_idxs = split_data(idxs, 1 - test_pct)\n",
    "\n",
    "    return ([xs[i] for i in train_idxs],  # x_train\n",
    "            [xs[i] for i in test_idxs],   # x_test\n",
    "            [ys[i] for i in train_idxs],  # y_train\n",
    "            [ys[i] for i in test_idxs])   # y_test\n",
    "\n",
    "xs = [x for x in range(1000)]  # xs are 1 ... 1000\n",
    "ys = [2 * x for x in xs]       # each y_i is twice x_i\n",
    "x_train, x_test, y_train, y_test = train_test_split(xs, ys, 0.25)\n",
    "\n",
    "# Check that the proportions are correct\n",
    "assert len(x_train) == len(y_train) == 750\n",
    "assert len(x_test) == len(y_test) == 250\n",
    "\n",
    "# Check that the corresponding data points are paired correctly.\n",
    "assert all(y == 2 * x for x, y in zip(x_train, y_train))\n",
    "assert all(y == 2 * x for x, y in zip(x_test, y_test))"
   ]
  },
  {
   "cell_type": "code",
   "execution_count": 68,
   "metadata": {},
   "outputs": [
    {
     "data": {
      "text/html": [
       "<style>\n",
       "table {float:left}\n",
       "</style>"
      ],
      "text/plain": [
       "<IPython.core.display.HTML object>"
      ]
     },
     "metadata": {},
     "output_type": "display_data"
    }
   ],
   "source": [
    "%%html\n",
    "<style>\n",
    "table {float:left}\n",
    "</style>"
   ]
  },
  {
   "cell_type": "markdown",
   "metadata": {},
   "source": [
    "# Correctness\n",
    "* 잘 공부했는지를 어떻게 판단할 것인가? (객관적인 지표가 필요하다)\n",
    "* Yes/No 단답형 예측기\n",
    "  + 예) 스팸 메일인가(Yes)? 아닌가(No)?\n",
    "  + 예) 내일 비가 올까(Yes)? 안올까(No)?\n",
    "  + 예) 물건을 살까(Yes)? 안살까(No)?\n",
    "* Accuracy\n",
    "  + 전체 예측 중에서 몇 개를 맞추었나?\n",
    "* Precision\n",
    "  + \"Yes\"라고 예측한 것 중에서 실제로 맞춘 것은 몇 개인가?\n",
    "* Recall\n",
    "  + 실제 \"Yes\"인 것 중에서 제대로 예측한 것은 몇 개인가?\n",
    "* F1_score\n",
    "  + Precision과 Recall의 조화평균 (Harmonic mean)\n",
    "  \n",
    "### Confusion Matrix\n",
    "* Yes/No 단답형 예측기의 테스트 결과(성능)를 표현할 때 많이 사용됨\n",
    "\n",
    "|                 | Yes                   | No                   |\n",
    "| :---------------|----------------------|-----------------------|\n",
    "| Predict \"Yes\"   | True Positive (TP)  | False Positive (FP) |\n",
    "| Predict \"No\"    | False Negative (FN) | True Negative (TN)  |\n"
   ]
  },
  {
   "cell_type": "markdown",
   "metadata": {},
   "source": [
    "###  예) 백혈병에 걸릴지 안걸릴지를 예측하기\n",
    "* 말도 안되는 알고리즘 : 이름이 \"Luke\"이면 \"Leukemia(백혈병)\"에 걸린다고 판단\n",
    "* 그냥 \"Luke\"와 \"Leukemia\"가 서로 비슷하니까!\n",
    "* 백만명의 샘플에 대해 테스틀 해 봤더니... "
   ]
  },
  {
   "cell_type": "code",
   "execution_count": 84,
   "metadata": {},
   "outputs": [
    {
     "data": {
      "image/png": "[encoded data removed]",
      "text/plain": [
       "<Figure size 432x288 with 1 Axes>"
      ]
     },
     "metadata": {
      "needs_background": "light"
     },
     "output_type": "display_data"
    }
   ],
   "source": [
    "# Pyplot을 이용해 Confusion 그려보자 (심심풀이 - 아무의미 없음)\n",
    "table_data = [[ 70, 4930, 5000],\n",
    "        [ 13930, 981070, 995000],\n",
    "        [14000, 986000, 1000000]]\n",
    "        \n",
    "columns = ('Leukemia', 'No leukemia', 'Total')       \n",
    "rows = [ '\"Luke\" (Predict \"Leukemia\")', 'Not \"Luke\" (Predict \"No leukemia\")', 'Total']\n",
    "\n",
    "fig = plt.figure()\n",
    "ax = fig.add_subplot(1,1,1)\n",
    "\n",
    "the_table = ax.table(cellText=table_data,\n",
    "                      rowLabels=rows,\n",
    "                      colLabels=columns,\n",
    "                      loc='upper center')\n",
    "the_table.scale(1,4)\n",
    "ax.axis('off')\n",
    "plt.title('Example Confusion Matrix')\n",
    "plt.show()"
   ]
  },
  {
   "cell_type": "code",
   "execution_count": 82,
   "metadata": {},
   "outputs": [
    {
     "name": "stdout",
     "output_type": "stream",
     "text": [
      "Accuracy   0.98114\n",
      "Precision  0.014\n",
      "Recall     0.005\n",
      "F1-Score   0.00736842105263158\n"
     ]
    }
   ],
   "source": [
    "def accuracy(tp: int, fp: int, fn: int, tn: int) -> float:\n",
    "    correct = tp + tn\n",
    "    total = tp + fp + fn + tn\n",
    "    return correct / total\n",
    "\n",
    "assert accuracy(70, 4930, 13930, 981070) == 0.98114\n",
    "\n",
    "def precision(tp: int, fp: int, fn: int, tn: int) -> float:\n",
    "    return tp / (tp + fp)\n",
    "\n",
    "assert precision(70, 4930, 13930, 981070) == 0.014\n",
    "\n",
    "def recall(tp: int, fp: int, fn: int, tn: int) -> float:\n",
    "    return tp / (tp + fn)\n",
    "\n",
    "assert recall(70, 4930, 13930, 981070) == 0.005\n",
    "\n",
    "def f1_score(tp: int, fp: int, fn: int, tn: int) -> float:\n",
    "    p = precision(tp, fp, fn, tn)\n",
    "    r = recall(tp, fp, fn, tn)\n",
    "\n",
    "    return 2 * p * r / (p + r)\n",
    "\n",
    "\n",
    "print( \"Accuracy  \", accuracy(70, 4930, 13930, 981070) )\n",
    "print( \"Precision \", precision(70, 4930, 13930, 981070) )\n",
    "print( \"Recall    \", recall(70, 4930, 13930, 981070) )\n",
    "print( \"F1-Score  \", f1_score(70, 4930, 13930, 981070) )"
   ]
  },
  {
   "cell_type": "markdown",
   "metadata": {},
   "source": [
    "* Accurracy를 측정해보면 의외로 높게 나온다\n",
    "  + ${(70+981070) \\over (70+4930+13930+981070)}=0.98114$\n",
    "  + 이유 : 이름이 \"Luke\"가 아니면서 \"Leukemia(백혈병)\"에 걸리지도 않은 사람이 대부분이다 (98.1%)\n",
    "  + 심지어 이름과 상관없이 무조건 \"No\"라고 대답해도 98.6%의 정확도가 나온다 (&larr; \"정확도\"의 맹점)\n",
    "    - ${986000 \\over 1000000}=0.986$\n",
    "    - 백만명 중에 백혈병에 걸린 사람은 14000명에 불과함\n",
    "* 이럴 때는 Precision과 Recall을 함께 살펴봐야 한다\n",
    "  + Precision : 이름이 \"Luke\"라서 백혈병에 걸린다고 예측했는데, 실제로 백혈병에 걸린 사람은?\n",
    "    - ${70 \\over (70+4930)}=0.014$\n",
    "    - 매우 낮다\n",
    "  + Recall : 백혈병에 걸린 사람 중에, 이름이 \"Luke\"인 사람은? (백혈병에 걸린 사람중에, 예측기가 이름만 가지고 맞춘 사람은?)\n",
    "    - ${70 \\over (70+13930)}=0.005$\n",
    "    - 매우 매우 낮다"
   ]
  },
  {
   "cell_type": "markdown",
   "metadata": {},
   "source": []
  }
 ],
 "metadata": {
  "kernelspec": {
   "display_name": "Python 3",
   "language": "python",
   "name": "python3"
  },
  "language_info": {
   "codemirror_mode": {
    "name": "ipython",
    "version": 3
   },
   "file_extension": ".py",
   "mimetype": "text/x-python",
   "name": "python",
   "nbconvert_exporter": "python",
   "pygments_lexer": "ipython3",
   "version": "3.6.4"
  }
 },
 "nbformat": 4,
 "nbformat_minor": 2
}
