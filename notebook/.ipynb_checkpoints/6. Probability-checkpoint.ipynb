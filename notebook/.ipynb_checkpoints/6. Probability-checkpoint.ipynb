{
 "cells": [
  {
   "cell_type": "code",
   "execution_count": null,
   "metadata": {},
   "outputs": [],
   "source": []
  },
  {
   "cell_type": "markdown",
   "metadata": {},
   "source": [
    "# 확률\n",
    "+ $P(E)$ : 어떤 사건(E, Event)이 실제로 일어날 것인지(혹은 일어났는지)에 대한 지식 혹은 믿음의 정도\n",
    "+ $0 \\le P(E) \\le 1$\n",
    "+ 모든 가능성을 지닌 경우의 수 대비 원하는 경우의 수의 비\n",
    "  + 예) 주사위에서 짝수가 나올 확률은 ½이고, 3의 배수가 나올 확률은 ⅓\n",
    "+ 모든 경우의 수 중 하나가 발생할 확률 : $1$\n",
    "  + 예) 주사위를 던졌을 때, 1~6 사이의 결과가 나올 확률은 $1$ (&larr; $1\\over6$+$1\\over6$+$1\\over6$+$1\\over6$+$1\\over6$+$1\\over6$)"
   ]
  },
  {
   "cell_type": "markdown",
   "metadata": {},
   "source": [
    "# 독립(Independence),  종속(Dependence)\n",
    "* 독립 : 한 사건의 발생확률이 다른 사건의 발생에 영향을 미치지 않는다\n",
    "  + 예) 동전을 두 번 연속해서 던질 때, 처음에 앞면이 나왔다고 두 번째 던졌을 때 앞면 또는 뒷면이 나올 가능성이 달라지지 않는다\n",
    "* 종속 : 서로 영향을 미침\n",
    "  + 예) 동전을 두 번 연속해서 던질 때, 처음에 앞면이 나왔다면 두 번 연속 앞면이 나올 가능성은 처음 던지기를 하기 전에 비해 높아진다"
   ]
  },
  {
   "cell_type": "markdown",
   "metadata": {},
   "source": [
    "## Conditional Probability (조건부 확률)\n",
    "* $P(E,F)$ : 두 사건 $E$와 $F$가 함께 발생할 확률\n",
    "  + 두 사건이 서로 독립적이라면 &rarr; $P(E,F)$ = $P(E)P(F)$\n",
    "* 두 사건이 서로 독립적이지 않다면 (한 사건의 발생이 다른 사건의 영향을 받는다면)\n",
    "  + $P(E|F)$ : 사건 F가 발생했을 때, 사건 E가 발생할 확률\n",
    "    - $P(E|F) = P(E,F)/P(F)$\n",
    "    - $P(E,F) = P(E|F)P(F)$\n",
    "* 두 사건 서로 독립적이라면\n",
    "  + $P(E|F) = P(E)$\n",
    "  + $P(E,F) = P(E|F)P(F) = P(E)P(F)$"
   ]
  },
  {
   "cell_type": "markdown",
   "metadata": {},
   "source": [
    "### 예) 두 자녀 가정\n",
    "* 남자 또는 여자 아이를 낳을 확률은 각각 $1\\over2$로 동일\n",
    "* 두 번째 아이의 성별은 첫 번째 아이의 성별과 무관 (서로 독립적임)\n",
    "* 두 자녀 가정일 경우\n",
    "  + 전체 경우의 수 : (여, 여), (남, 여), (여, 남), (남, 남)\n",
    "  + 사건 B : 두 아이가 모두 여자아이 &rarr; (여, 여)\n",
    "    - $P(B) = {1\\over4}$\n",
    "  + 사건 G : 첫째(큰 애)가 여자아이 &rarr; (여, 여), (여, 남)\n",
    "    - $P(G) = {2\\over4}={1\\over2}$\n",
    "  + 사건 L : 둘 중 최소 한 명은 여자아이 &rarr; (여, 여), (남, 여), (여, 남)\n",
    "    - $P(L) = {3\\over4}$\n",
    "* 문제1) 첫째가 여자아이일 떄, 두 아이 모두 여자아이일 확률은?\n",
    "    - $P(B|G)=P(B,G)/P(G)=P(B)/P(G)={1\\over2}$\n",
    "    - <u>**(여, 여)**</u>, (여, 남)\n",
    "* 문제2) 둘 중 최소 한 명이 여자아이일 때, 둘 다 여자아일 확률은?\n",
    "    - $P(B|L)=P(B,L)/P(L)=P(B)/P(L)={1\\over3}$\n",
    "    - <u>**(여, 여)**</u>, (남, 여), (여, 남)"
   ]
  },
  {
   "cell_type": "code",
   "execution_count": 7,
   "metadata": {},
   "outputs": [
    {
     "name": "stdout",
     "output_type": "stream",
     "text": [
      "P(both | older): 0.5007089325501317\n",
      "P(both | either):  0.3311897106109325\n"
     ]
    }
   ],
   "source": [
    "    import enum, random\n",
    "    \n",
    "    # An Enum is a typed set of enumerated values. We can use them\n",
    "    # to make our code more descriptive and readable.\n",
    "    class Kid(enum.Enum):\n",
    "        BOY = 0\n",
    "        GIRL = 1\n",
    "    \n",
    "    def random_kid() -> Kid:\n",
    "        return random.choice([Kid.BOY, Kid.GIRL])\n",
    "    \n",
    "    both_girls = 0\n",
    "    older_girl = 0\n",
    "    either_girl = 0\n",
    "    \n",
    "    random.seed(0)\n",
    "    \n",
    "    for _ in range(10000):\n",
    "        younger = random_kid()\n",
    "        older = random_kid()\n",
    "        if older == Kid.GIRL:\n",
    "            older_girl += 1\n",
    "        if older == Kid.GIRL and younger == Kid.GIRL:\n",
    "            both_girls += 1\n",
    "        if older == Kid.GIRL or younger == Kid.GIRL:\n",
    "            either_girl += 1\n",
    "    \n",
    "    print(\"P(both | older):\", both_girls / older_girl)     # 0.514 ~ 1/2\n",
    "    print(\"P(both | either): \", both_girls / either_girl)  # 0.342 ~ 1/3\n",
    "    \n",
    "    \n",
    "    \n",
    "    assert 0.48 < both_girls / older_girl < 0.52\n",
    "    assert 0.30 < both_girls / either_girl < 0.35"
   ]
  },
  {
   "cell_type": "markdown",
   "metadata": {},
   "source": [
    "# Bayes's Theorem\n",
    "* $P(E|F)=P(E,F)/P(F)=P(F|E)P(E)/P(F)$\n",
    "  + $P(F|E)$, $P(E)$, $P(F)$를 알면 &rarr;  $P(E|F)$를 구할 수 있다.\n",
    "* 예\n",
    "  + $P(흡연|폐암)$  = 0.85\n",
    "  + $P(폐암)$ = 0.00046\n",
    "  + $P(흡연)$ = 0.20\n",
    "  + $P(폐암|흡연)=P(흡연|폐암)P(폐암)/P(흡연)=0.85\\times0.00046\\times0.20=0.0000782$\n",
    "  + $P(폐암|비흡연)=P(비흡연|폐암)P(폐암)/P(비흡연)=0.15\\times0.00046\\times0.80=0.0000552$\n",
    "  "
   ]
  },
  {
   "cell_type": "markdown",
   "metadata": {},
   "source": [
    "# Random Variables (확률변수)\n",
    "* 변수의 값이 특정 확률분포와 연관되어있는 변수\n",
    "  + 변수의 값이 어떤 값이 될 것인지를 확률로 설명할 수 있다\n",
    "  + 예) 주사위 던지기\n",
    "    - 확률변수($X$) : 주사위를 던졌을 때 나오눈 눈의 수 (1,2,3,4,5,6)\n",
    "    - $P(X=1)=1/6$"
   ]
  },
  {
   "cell_type": "markdown",
   "metadata": {},
   "source": [
    "# Continuous Distribution\n",
    "* 이산 분포(Discrete Distribution)\n",
    "  + 확률변수의 값이 유한개\n",
    "  + 예) 동전 던지기, 주사위 던지기\n",
    "* 연속 분포(Continuous Distribution)\n",
    "  + 확률변수의 값이 무한/연속\n",
    "    - 확률변수의 값이 무한/연속적이기 때문에 개별 값에 대해 일일이 확률을 정의할 수 없다\n",
    "    - 연속적인 값에 대한 \"분포\"로 정의한다\n",
    "    - 특정 값에 대한 확률을 구할 수는 없으나, \"구간\"에 대한 확률은 구할 수 있다\n",
    "  + 예) 균등분포(Uniform Distribution), 정규분포(Normal Distribution) "
   ]
  },
  {
   "cell_type": "markdown",
   "metadata": {},
   "source": [
    "### PMF, PDF, CDF\n",
    "* PMF (Probability Mass Function)\n",
    "  + 이산 확률분포에서, 주어진 확률변수의 값에 대응하는 확률을 \"바로\" 구할 수 있는 함수\n",
    "* PDF(Probability Density Function)\n",
    "  + 연속 확률분포에서, 확률 변수 $X$가 구간 $[a,b]$에 포함될 확률을 \"적분\"을 이용하여 구할 수 있는 함수 \n",
    "* CDF(Cumulative Distribution Function, 누적분포함수)\n",
    "  + 연속 확률분포에서, 확률 변수 $X$가 구간 $[a,b]$에 포함될 확률을 \"뺄셈\"을 이용하여 구할 수 있는 함수\n",
    "  + \"적분\"보다 \"뺄셈\"이 쉽다."
   ]
  },
  {
   "cell_type": "markdown",
   "metadata": {},
   "source": [
    "## Uniform Distribution (균등분포)\n",
    "* 구간 내의 모든 값에 대해, 값들이 나타날 가능성이 동등한 분포\n",
    "* 예) 0과 1 사이의 모든 값에 대해, 그 값이 나타날 가능성이 같음\n",
    "  + $P(X=0.1)=P(X=0.2)=P(X=0.01)=...$"
   ]
  },
  {
   "cell_type": "code",
   "execution_count": 2,
   "metadata": {},
   "outputs": [],
   "source": [
    "def uniform_pdf(x):\n",
    "    return 1 if x >= 0 and x < 1 else 0\n",
    "\n",
    "def uniform_cdf(x: float) -> float:\n",
    "    \"\"\"Returns the probability that a uniform random variable is <= x\"\"\"\n",
    "    if x < 0:   return 0    # uniform random is never less than 0\n",
    "    elif x < 1: return x    # e.g. P(X <= 0.4) = 0.4\n",
    "    else:       return 1    # uniform random is always less than 1"
   ]
  },
  {
   "cell_type": "code",
   "execution_count": 17,
   "metadata": {},
   "outputs": [
    {
     "name": "stdout",
     "output_type": "stream",
     "text": [
      "P(0<=X<=1)= 1\n",
      "P(0<=X<=0.5)= 0.5\n"
     ]
    }
   ],
   "source": [
    "print( \"P(0<=X<=1)=\", uniform_cdf(1) - uniform_cdf(0) )\n",
    "print( \"P(0<=X<=0.5)=\", uniform_cdf(0.5) - uniform_cdf(0) )"
   ]
  },
  {
   "cell_type": "code",
   "execution_count": 89,
   "metadata": {},
   "outputs": [
    {
     "data": {
      "image/png": "[encoded data removed]",
      "text/plain": [
       "<matplotlib.figure.Figure at 0x185b2878d30>"
      ]
     },
     "metadata": {
      "needs_background": "light"
     },
     "output_type": "display_data"
    }
   ],
   "source": [
    "from matplotlib import pyplot as plt\n",
    "\n",
    "xs = [x for x in range(-1, 3)]\n",
    "\n",
    "plt.plot(xs,[uniform_cdf(x) for x in xs])\n",
    "plt.show()"
   ]
  },
  {
   "cell_type": "markdown",
   "metadata": {},
   "source": [
    "# 정규분포 (Normal Distribution)\n",
    "* PDF (Probability Distribution Function)\n",
    "  + $f(x|\\mu,\\sigma)={1\\over\\sqrt{2\\pi\\sigma^2}}e^{-{(x-\\mu)^2}\\over2\\sigma^2}$\n",
    "* 평균($\\mu$)과 표준편차($\\sigma$)로 설명되는 확률분포\n",
    "  + 평균을 중심으로, 표준편차 정도로 퍼진, 종(Bell, 대칭) 모양의 분포\n",
    "  + 표준편차가 작을수록 표족한 종모양\n",
    "    - 평균을 중심으로 값들이 가깝게 모여있다 (평균 근처의 값들이 나올 확률이 높다)\n",
    "  + 표준편차가 클수록 높이는 낮고 옆으로 넓게 퍼진 모양\n",
    "    - 평균에서 조금 떨어진 값들도 나타날 확률이 상대적으로 높아진다\n",
    "  + 실세계의 많은 데이터들이 정규분포와 유사함 (그 만큼 쓸모가 많음)\n",
    "* 68-95-99.7 규칙 (3-시스마 규칙)\n",
    "  + 약 68%의 값들이 평균에서 양쪽으로 1 표준편차 범위(μ±σ)에 존재한다\n",
    "  + 약 95%의 값들이 평균에서 양쪽으로 2 표준편차 범위(μ±2σ)에 존재한다\n",
    "  + 거의 모든 값들(99.7%)이 평균에서 양쪽으로 3표준편차 범위(μ±3σ)에 존재한다."
   ]
  },
  {
   "cell_type": "code",
   "execution_count": 19,
   "metadata": {},
   "outputs": [
    {
     "data": {
      "image/png": "[encoded data removed]",
      "text/plain": [
       "<matplotlib.figure.Figure at 0x185b0eb8ac8>"
      ]
     },
     "metadata": {
      "needs_background": "light"
     },
     "output_type": "display_data"
    }
   ],
   "source": [
    "import math\n",
    "SQRT_TWO_PI = math.sqrt(2 * math.pi)\n",
    "\n",
    "def normal_pdf(x: float, mu: float = 0, sigma: float = 1) -> float:\n",
    "    return (math.exp(-(x-mu) ** 2 / 2 / sigma ** 2) / (SQRT_TWO_PI * sigma))\n",
    "\n",
    "import matplotlib.pyplot as plt\n",
    "xs = [x / 10.0 for x in range(-50, 50)]\n",
    "plt.plot(xs,[normal_pdf(x,sigma=1) for x in xs],'-',label='mu=0,sigma=1')\n",
    "plt.plot(xs,[normal_pdf(x,sigma=2) for x in xs],'--',label='mu=0,sigma=2')\n",
    "plt.plot(xs,[normal_pdf(x,sigma=0.5) for x in xs],':',label='mu=0,sigma=0.5')\n",
    "plt.plot(xs,[normal_pdf(x,mu=-1)   for x in xs],'-.',label='mu=-1,sigma=1')\n",
    "plt.legend()\n",
    "plt.title(\"Various Normal pdfs\")\n",
    "plt.show()"
   ]
  },
  {
   "cell_type": "code",
   "execution_count": 20,
   "metadata": {},
   "outputs": [
    {
     "data": {
      "image/png": "[encoded data removed]",
      "text/plain": [
       "<matplotlib.figure.Figure at 0x185b0e3a7b8>"
      ]
     },
     "metadata": {
      "needs_background": "light"
     },
     "output_type": "display_data"
    }
   ],
   "source": [
    "def normal_cdf(x: float, mu: float = 0, sigma: float = 1) -> float:\n",
    "    return (1 + math.erf((x - mu) / math.sqrt(2) / sigma)) / 2\n",
    "\n",
    "xs = [x / 10.0 for x in range(-50, 50)]\n",
    "plt.plot(xs,[normal_cdf(x,sigma=1) for x in xs],'-',label='mu=0,sigma=1')\n",
    "plt.plot(xs,[normal_cdf(x,sigma=2) for x in xs],'--',label='mu=0,sigma=2')\n",
    "plt.plot(xs,[normal_cdf(x,sigma=0.5) for x in xs],':',label='mu=0,sigma=0.5')\n",
    "plt.plot(xs,[normal_cdf(x,mu=-1) for x in xs],'-.',label='mu=-1,sigma=1')\n",
    "plt.legend(loc=4) # bottom right\n",
    "plt.title(\"Various Normal cdfs\")\n",
    "plt.show()"
   ]
  },
  {
   "cell_type": "code",
   "execution_count": null,
   "metadata": {},
   "outputs": [],
   "source": [
    "def inverse_normal_cdf(p: float,\n",
    "                       mu: float = 0,\n",
    "                       sigma: float = 1,\n",
    "                       tolerance: float = 0.00001) -> float:\n",
    "    \"\"\"Find approximate inverse using binary search\"\"\"\n",
    "\n",
    "    # if not standard, compute standard and rescale\n",
    "    if mu != 0 or sigma != 1:\n",
    "        return mu + sigma * inverse_normal_cdf(p, tolerance=tolerance)\n",
    "\n",
    "    low_z = -10.0                      # normal_cdf(-10) is (very close to) 0\n",
    "    hi_z  =  10.0                      # normal_cdf(10)  is (very close to) 1\n",
    "    while hi_z - low_z > tolerance:\n",
    "        mid_z = (low_z + hi_z) / 2     # Consider the midpoint\n",
    "        mid_p = normal_cdf(mid_z)      # and the cdf's value there\n",
    "        if mid_p < p:\n",
    "            low_z = mid_z              # Midpoint too low, search above it\n",
    "        else:\n",
    "            hi_z = mid_z               # Midpoint too high, search below it\n",
    "\n",
    "    return mid_z\n"
   ]
  },
  {
   "cell_type": "markdown",
   "metadata": {},
   "source": [
    "## scipy.stats.norm\n",
    "* scipy\n",
    "  + 과학기술 및 공학 계산에 많이 사용되는 기능들을 제공하는 파이썬 패키지\n",
    "  + 데이터 분석에 필요한 많은 기능들을 제공\n",
    "* scipy.stats.norm\n",
    "  + 정규분포 관련 패키지\n",
    "  + 패키지에서 제공하는 함수를 이용하면 편리하다"
   ]
  },
  {
   "cell_type": "code",
   "execution_count": 67,
   "metadata": {},
   "outputs": [
    {
     "name": "stdout",
     "output_type": "stream",
     "text": [
      "[-0.99445788  0.99445788]\n"
     ]
    },
    {
     "data": {
      "text/plain": [
       "array([ 9.8040036, 10.1959964])"
      ]
     },
     "execution_count": 67,
     "metadata": {},
     "output_type": "execute_result"
    }
   ],
   "source": [
    "from scipy.stats import norm\n",
    "\n",
    "norm.pdf(0) #=normal_pdf(0)\n",
    "norm.cdf(0) #=normal_cdf(0)\n",
    "norm.ppf(.5) #=inverse_normal_cdf(.5)\n",
    "\n",
    "norm.cdf(1)-norm.cdf(-1)\n",
    "norm.cdf(2)-norm.cdf(-2)\n",
    "norm.cdf(3)-norm.cdf(-3)\n",
    "norm.cdf(6)-norm.cdf(-6) # 6-sigma\n",
    "\n",
    "# 1 sigma partition : 16 + 68 + 16\n",
    "norm.ppf(.84)\n",
    "norm.ppf([.16, .84]) #68% 구간. 비교: norm.cdf(1)-norm.cdf(-1)\n",
    "\n",
    "norm.ppf(.95, loc=10,scale=.1)\n",
    "norm.cdf(10.1645, loc=10,scale=.1) - norm.cdf(9.8355, loc=10,scale=.1) #90% 구간 (양쪽으로 +- 5% 컷)\n",
    "norm.ppf([.025,.975], loc=10,scale=.1) #95% 구간"
   ]
  },
  {
   "cell_type": "markdown",
   "metadata": {},
   "source": [
    "# 이항 분포 (Binomial Distribution)\n",
    "* 이산 확률분포\n",
    "* PMF (Probability Mass Function)\n",
    "  + $f(k,n,p)=Pr(X=k)= {n \\choose k}p^k(1-p)^{n-k}$\n",
    "  + 각 시행의 결과는 \"성공\" 또는 \"실패\"\n",
    "    - Yes/No, True/False, 0/1 처럼 결과는 둘 중 하나 (베르누이 시행, Bernoulli Trial)\n",
    "  + 각 시행에서 \"성공\"할 확률이 $p$\n",
    "  + $n$번의 시행했을 때\n",
    "  + $k$번 \"성공\"할 확률의 분포\n",
    "* 페널티킥 성공 확률이 0.7인 선수가, 10번 찼을 때 7번 이상 성공할 확률은?"
   ]
  },
  {
   "cell_type": "code",
   "execution_count": 92,
   "metadata": {},
   "outputs": [
    {
     "data": {
      "text/plain": [
       "0.6496107184"
      ]
     },
     "execution_count": 92,
     "metadata": {},
     "output_type": "execute_result"
    }
   ],
   "source": [
    "from scipy.stats import binom\n",
    "\n",
    "def pk_prob(k_range, n, p):\n",
    "    p_sum = 0.0\n",
    "    for k in k_range:\n",
    "        p_sum += binom.pmf(k, n, p)\n",
    "    return p_sum\n",
    "        \n",
    "pk_prob(range(7,11), 10, 0.7)\n"
   ]
  },
  {
   "cell_type": "markdown",
   "metadata": {},
   "source": [
    "# Central Limit Theorem (중심 극한 정리)\n",
    "* Binomial(n,p)를 여러번(매우 많이) 시행하면, 그 성공횟수의 분포가 정규분포와 유사하게 나타난다\n",
    "  + $\\mu=np$\n",
    "  + $\\sigma=\\sqrt{np(1-p)}$\n",
    "* 예) 동전 던기기를 20번 시행했을 때, 앞면이 x번 나올 확률의 분포는?\n",
    "  + 우연찮게 1번이나 2번만 나올수도 있고, 반대로 8번이나 9번이 나올수도 있겠지만...\n",
    "  + 이러한 실험을 여러번(아주 많이) 해 보면 대개는 10번 내외일 것이다\n",
    "    - 평균($\\mu$) $20*0.5$, 표준편차($\\sigma$) $\\sqrt{20*0.5*(1-0.5)}$인 정규분포에 근접"
   ]
  },
  {
   "cell_type": "code",
   "execution_count": 98,
   "metadata": {},
   "outputs": [],
   "source": [
    "import random\n",
    "\n",
    "def bernoulli_trial(p: float) -> int:\n",
    "    \"\"\"Returns 1 with probability p and 0 with probability 1-p\"\"\"\n",
    "    return 1 if random.random() < p else 0\n",
    "\n",
    "def binomial(n: int, p: float) -> int:\n",
    "    \"\"\"Returns the sum of n bernoulli(p) trials\"\"\"\n",
    "    return sum(bernoulli_trial(p) for _ in range(n))\n",
    "\n",
    "from collections import Counter\n",
    "\n",
    "def binomial_histogram(p: float, n: int, num_points: int) -> None:\n",
    "    \"\"\"Picks points from a Binomial(n, p) and plots their histogram\"\"\"\n",
    "    data = [binomial(n, p) for _ in range(num_points)]\n",
    "\n",
    "    # use a bar chart to show the actual binomial samples\n",
    "    histogram = Counter(data)\n",
    "    plt.bar([x - 0.4 for x in histogram.keys()],\n",
    "            [v / num_points for v in histogram.values()],\n",
    "            0.8,\n",
    "            color='0.75')\n",
    "\n",
    "    mu = p * n\n",
    "    sigma = math.sqrt(n * p * (1 - p))\n",
    "\n",
    "    # use a line chart to show the normal approximation\n",
    "    xs = range(min(data), max(data) + 1)\n",
    "    ys = [normal_cdf(i + 0.5, mu, sigma) - normal_cdf(i - 0.5, mu, sigma)\n",
    "          for i in xs]\n",
    "    plt.plot(xs,ys)\n",
    "    plt.title(\"Binomial Distribution vs. Normal Approximation\")\n",
    "    plt.show()"
   ]
  },
  {
   "cell_type": "code",
   "execution_count": 97,
   "metadata": {},
   "outputs": [
    {
     "data": {
      "image/png": "[encoded data removed]",
      "text/plain": [
       "<matplotlib.figure.Figure at 0x185b299aa58>"
      ]
     },
     "metadata": {
      "needs_background": "light"
     },
     "output_type": "display_data"
    }
   ],
   "source": [
    "binomial_histogram(0.5, 20, 1000)"
   ]
  },
  {
   "cell_type": "code",
   "execution_count": null,
   "metadata": {},
   "outputs": [],
   "source": []
  }
 ],
 "metadata": {
  "kernelspec": {
   "display_name": "Python 3",
   "language": "python",
   "name": "python3"
  },
  "language_info": {
   "codemirror_mode": {
    "name": "ipython",
    "version": 3
   },
   "file_extension": ".py",
   "mimetype": "text/x-python",
   "name": "python",
   "nbconvert_exporter": "python",
   "pygments_lexer": "ipython3",
   "version": "3.6.4"
  }
 },
 "nbformat": 4,
 "nbformat_minor": 2
}
